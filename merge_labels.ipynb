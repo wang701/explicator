{
 "cells": [
  {
   "cell_type": "markdown",
   "metadata": {},
   "source": [
    "# Merge camera labels to GPS and tractor logs\n",
    "\n",
    "  * The goal for this notebook is to merge camera labels to GPS and tractor logs from 07/15/2019.\n",
    "  * `label.h5` and `gps.h5` has the same data rate (1 Hz).\n",
    "  * `label.h5` and `tra.h5` has different data rates:\n",
    "    * Merge using `merge_asof`\n",
    "  * The outputs should have two dataframes:\n",
    "    * Labeled GPS dataframe\n",
    "    * Labeled tractor log dataframe"
   ]
  },
  {
   "cell_type": "code",
   "execution_count": null,
   "metadata": {},
   "outputs": [],
   "source": [
    "import pandas as pd\n",
    "import numpy as np"
   ]
  },
  {
   "cell_type": "markdown",
   "metadata": {},
   "source": [
    "First we need to load in labels, GPS, and tractor log data."
   ]
  },
  {
   "cell_type": "code",
   "execution_count": null,
   "metadata": {},
   "outputs": [],
   "source": [
    "labels = pd.read_hdf('./labels.h5')\n",
    "gps = pd.read_hdf('/home/yang/research/dock/explicator/gps-07152019.h5')\n",
    "tra = pd.read_hdf('/home/yang/research/dock/explicator/tra-07152019.h5')"
   ]
  },
  {
   "cell_type": "markdown",
   "metadata": {},
   "source": [
    "The `tra` and `gps` dataframes do not have `ts` as the index. To simplify merging, we will set these indices first."
   ]
  },
  {
   "cell_type": "code",
   "execution_count": null,
   "metadata": {},
   "outputs": [],
   "source": [
    "tra.index = pd.to_datetime(tra['ts'], unit='s')\n",
    "gps.index = pd.to_datetime(gps['ts'], unit='s')"
   ]
  },
  {
   "cell_type": "code",
   "execution_count": null,
   "metadata": {},
   "outputs": [],
   "source": [
    "gps_df = gps.sort_index().drop(columns=['ts'])\n",
    "gps_df.head(10)"
   ]
  },
  {
   "cell_type": "code",
   "execution_count": null,
   "metadata": {},
   "outputs": [],
   "source": [
    "tra_df = tra.sort_index().drop(columns=['ts'])\n",
    "tra_df.head(10)"
   ]
  },
  {
   "cell_type": "markdown",
   "metadata": {},
   "source": [
    "Now we can merge the `gps_df` and `tra_df` with `labels`."
   ]
  },
  {
   "cell_type": "code",
   "execution_count": null,
   "metadata": {},
   "outputs": [],
   "source": [
    "gps_labeled_df = pd.merge(gps_df, labels, how='inner', left_index=True, right_index=True)"
   ]
  },
  {
   "cell_type": "code",
   "execution_count": null,
   "metadata": {},
   "outputs": [],
   "source": [
    "gps_labeled_df.head(10)"
   ]
  },
  {
   "cell_type": "code",
   "execution_count": null,
   "metadata": {},
   "outputs": [],
   "source": [
    "tra_labeled_df = pd.merge_asof(tra_df, labels, left_index=True, right_index=True, \\\n",
    "                               direction='nearest', tolerance=pd.Timedelta('1s'))"
   ]
  },
  {
   "cell_type": "code",
   "execution_count": null,
   "metadata": {},
   "outputs": [],
   "source": [
    "tra_labeled_df = tra_labeled_df[tra_labeled_df['left'].notna()]"
   ]
  },
  {
   "cell_type": "code",
   "execution_count": null,
   "metadata": {},
   "outputs": [],
   "source": [
    "tra_labeled_df.head(10)"
   ]
  },
  {
   "cell_type": "markdown",
   "metadata": {},
   "source": [
    "Now we can save the labeled dataframes."
   ]
  },
  {
   "cell_type": "code",
   "execution_count": null,
   "metadata": {},
   "outputs": [],
   "source": [
    "gps_labeled_df.to_hdf('./gps_labeled.h5', key='gps_label', complevel=5)\n",
    "tra_labeled_df.to_hdf('./tra_labeled.h5', key='tra_label', complevel=5)"
   ]
  }
 ],
 "metadata": {
  "kernelspec": {
   "display_name": "Python 3",
   "language": "python",
   "name": "python3"
  },
  "language_info": {
   "codemirror_mode": {
    "name": "ipython",
    "version": 3
   },
   "file_extension": ".py",
   "mimetype": "text/x-python",
   "name": "python",
   "nbconvert_exporter": "python",
   "pygments_lexer": "ipython3",
   "version": "3.7.7"
  }
 },
 "nbformat": 4,
 "nbformat_minor": 4
}
