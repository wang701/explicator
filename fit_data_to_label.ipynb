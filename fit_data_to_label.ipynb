{
 "cells": [
  {
   "cell_type": "markdown",
   "metadata": {},
   "source": [
    "# Fit sensory data to labels\n",
    "\n",
    "This notebook tries to fit a sensory data from a selected PGN to labels.\n",
    "\n",
    "The main steps are:\n",
    "  * Load the labeled tractor bus data\n",
    "  * Group by PGNs\n",
    "  * Select a PGN and get its sensory data bytes\n",
    "  * Plot a normalized sensory data vs. a label"
   ]
  },
  {
   "cell_type": "code",
   "execution_count": null,
   "metadata": {},
   "outputs": [],
   "source": [
    "import numpy as np\n",
    "import pandas as pd\n",
    "\n",
    "%matplotlib inline\n",
    "import matplotlib.pyplot as plt\n",
    "import matplotlib.dates as mdates"
   ]
  },
  {
   "cell_type": "markdown",
   "metadata": {},
   "source": [
    "Read in the labeled tractor bus data"
   ]
  },
  {
   "cell_type": "code",
   "execution_count": null,
   "metadata": {},
   "outputs": [],
   "source": [
    "ltra_path = '/home/yang/research/explicator/tra_labeled.h5'\n",
    "\n",
    "ltra_df = pd.read_hdf(ltra_path)\n",
    "ltra_df.head()"
   ]
  },
  {
   "cell_type": "markdown",
   "metadata": {},
   "source": [
    "Group the labeled tractor bus by PGN"
   ]
  },
  {
   "cell_type": "code",
   "execution_count": null,
   "metadata": {},
   "outputs": [],
   "source": [
    "grp = ltra_df.groupby('pgn')"
   ]
  },
  {
   "cell_type": "markdown",
   "metadata": {},
   "source": [
    "Get Electronic Engine Controller 1 (EEC1) group"
   ]
  },
  {
   "cell_type": "code",
   "execution_count": null,
   "metadata": {},
   "outputs": [],
   "source": [
    "eec1 = grp.get_group(61444)\n",
    "eec1.head()"
   ]
  },
  {
   "cell_type": "code",
   "execution_count": null,
   "metadata": {},
   "outputs": [],
   "source": [
    "sensor = eec1.copy()"
   ]
  },
  {
   "cell_type": "markdown",
   "metadata": {},
   "source": [
    "We already know what EEC1: concatenation of 4th and 5th bytes are the engine speed."
   ]
  },
  {
   "cell_type": "code",
   "execution_count": null,
   "metadata": {},
   "outputs": [],
   "source": [
    "sensor['data'] = (sensor.payload.str.slice(start=8, stop=10) + sensor.payload.str.slice(start=6, stop=8)).apply(lambda x: int(x, 16)).values"
   ]
  },
  {
   "cell_type": "code",
   "execution_count": null,
   "metadata": {},
   "outputs": [],
   "source": [
    "sensor['data_norm'] = sensor['data'].div(sensor['data'].max())\n",
    "sensor.head()"
   ]
  },
  {
   "cell_type": "code",
   "execution_count": null,
   "metadata": {},
   "outputs": [],
   "source": [
    "sensor_dec = sensor.resample('1S').last()\n",
    "sensor_dec = sensor_dec[sensor_dec['left'] != 'not available']\n",
    "sensor_dec.head()"
   ]
  },
  {
   "cell_type": "code",
   "execution_count": null,
   "metadata": {},
   "outputs": [],
   "source": [
    "sns.lineplot(x=sensor_dec.index, y='data_norm', hue='left', data=sensor_dec)\n",
    "plt.xticks(rotation=15)"
   ]
  },
  {
   "cell_type": "code",
   "execution_count": null,
   "metadata": {},
   "outputs": [],
   "source": [
    "yd = grp.get_group(65488)\n",
    "yd.head()"
   ]
  },
  {
   "cell_type": "code",
   "execution_count": null,
   "metadata": {},
   "outputs": [],
   "source": [
    "sensor = yd.copy()\n",
    "sensor['data'] = (sensor.payload.str.slice(start=2, stop=4) + sensor.payload.str.slice(start=0, stop=2)).apply(lambda x: int(x, 16)).values\n",
    "sensor['data_norm'] = sensor['data'].div(sensor['data'].max())\n",
    "sensor_dec = sensor.resample('1S').last()\n",
    "sensor_dec = sensor_dec[sensor_dec['left'] != 'not available']\n",
    "sensor_dec.head()"
   ]
  },
  {
   "cell_type": "code",
   "execution_count": null,
   "metadata": {},
   "outputs": [],
   "source": [
    "sns.lineplot(x=sensor_dec.index, y='data_norm', hue='left', data=sensor_dec)\n",
    "plt.xticks(rotation=15)"
   ]
  },
  {
   "cell_type": "code",
   "execution_count": null,
   "metadata": {},
   "outputs": [],
   "source": [
    "sensor = yd.copy()\n",
    "sensor['data'] = (sensor.payload.str.slice(start=14, stop=16) + sensor.payload.str.slice(start=12, stop=14)).apply(lambda x: int(x, 16)).values\n",
    "sensor['data_norm'] = sensor['data'].div(sensor['data'].max())\n",
    "sensor_dec = sensor.resample('1S').last()\n",
    "sensor_dec = sensor_dec[sensor_dec['left'] != 'not available']\n",
    "sensor_dec.head()"
   ]
  },
  {
   "cell_type": "code",
   "execution_count": null,
   "metadata": {},
   "outputs": [],
   "source": [
    "sns.lineplot(x=sensor_dec.index, y='data_norm', hue='left', data=sensor_dec)\n",
    "plt.xticks(rotation=15)"
   ]
  }
 ],
 "metadata": {
  "kernelspec": {
   "display_name": "Python 3",
   "language": "python",
   "name": "python3"
  },
  "language_info": {
   "codemirror_mode": {
    "name": "ipython",
    "version": 3
   },
   "file_extension": ".py",
   "mimetype": "text/x-python",
   "name": "python",
   "nbconvert_exporter": "python",
   "pygments_lexer": "ipython3",
   "version": "3.7.7"
  }
 },
 "nbformat": 4,
 "nbformat_minor": 4
}
