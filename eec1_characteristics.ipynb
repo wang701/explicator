{
 "cells": [
  {
   "cell_type": "markdown",
   "metadata": {},
   "source": [
    "# Investigation of EEC1 Payload Characteristics\n",
    "\n",
    "This notebook tries to fit a sensory data from a selected PGN to labels.\n",
    "\n",
    "### The main steps are:\n",
    "  * Load the labeled tractor bus data\n",
    "  * Group by PGNs\n",
    "  * Select a PGN and get its sensory data bytes\n",
    "  * Plot a normalized sensory data vs. a label"
   ]
  },
  {
   "cell_type": "code",
   "execution_count": 1,
   "metadata": {},
   "outputs": [],
   "source": [
    "import numpy as np\n",
    "import pandas as pd\n",
    "\n",
    "%matplotlib inline\n",
    "import matplotlib.pyplot as plt\n",
    "import matplotlib.dates as mdates"
   ]
  },
  {
   "cell_type": "markdown",
   "metadata": {},
   "source": [
    "Read in the labeled tractor bus data"
   ]
  },
  {
   "cell_type": "code",
   "execution_count": 2,
   "metadata": {},
   "outputs": [
    {
     "data": {
      "text/html": [
       "<div>\n",
       "<style scoped>\n",
       "    .dataframe tbody tr th:only-of-type {\n",
       "        vertical-align: middle;\n",
       "    }\n",
       "\n",
       "    .dataframe tbody tr th {\n",
       "        vertical-align: top;\n",
       "    }\n",
       "\n",
       "    .dataframe thead th {\n",
       "        text-align: right;\n",
       "    }\n",
       "</style>\n",
       "<table border=\"1\" class=\"dataframe\">\n",
       "  <thead>\n",
       "    <tr style=\"text-align: right;\">\n",
       "      <th></th>\n",
       "      <th>pgn</th>\n",
       "      <th>payload</th>\n",
       "      <th>left</th>\n",
       "      <th>right</th>\n",
       "      <th>op</th>\n",
       "    </tr>\n",
       "    <tr>\n",
       "      <th>ts</th>\n",
       "      <th></th>\n",
       "      <th></th>\n",
       "      <th></th>\n",
       "      <th></th>\n",
       "      <th></th>\n",
       "    </tr>\n",
       "  </thead>\n",
       "  <tbody>\n",
       "    <tr>\n",
       "      <th>2019-07-15 19:14:59.000248909</th>\n",
       "      <td>65247</td>\n",
       "      <td>86e02e00ffffffff</td>\n",
       "      <td>header up</td>\n",
       "      <td>not available</td>\n",
       "      <td>not available</td>\n",
       "    </tr>\n",
       "    <tr>\n",
       "      <th>2019-07-15 19:14:59.005065918</th>\n",
       "      <td>65395</td>\n",
       "      <td>1207852b6c1f8b04</td>\n",
       "      <td>header up</td>\n",
       "      <td>not available</td>\n",
       "      <td>not available</td>\n",
       "    </tr>\n",
       "    <tr>\n",
       "      <th>2019-07-15 19:14:59.005640030</th>\n",
       "      <td>65396</td>\n",
       "      <td>f20300feffffffff</td>\n",
       "      <td>header up</td>\n",
       "      <td>not available</td>\n",
       "      <td>not available</td>\n",
       "    </tr>\n",
       "    <tr>\n",
       "      <th>2019-07-15 19:14:59.006222010</th>\n",
       "      <td>65398</td>\n",
       "      <td>0000000100000000</td>\n",
       "      <td>header up</td>\n",
       "      <td>not available</td>\n",
       "      <td>not available</td>\n",
       "    </tr>\n",
       "    <tr>\n",
       "      <th>2019-07-15 19:14:59.010577917</th>\n",
       "      <td>65263</td>\n",
       "      <td>ffffff62ffff3200</td>\n",
       "      <td>header up</td>\n",
       "      <td>not available</td>\n",
       "      <td>not available</td>\n",
       "    </tr>\n",
       "  </tbody>\n",
       "</table>\n",
       "</div>"
      ],
      "text/plain": [
       "                                 pgn           payload       left  \\\n",
       "ts                                                                  \n",
       "2019-07-15 19:14:59.000248909  65247  86e02e00ffffffff  header up   \n",
       "2019-07-15 19:14:59.005065918  65395  1207852b6c1f8b04  header up   \n",
       "2019-07-15 19:14:59.005640030  65396  f20300feffffffff  header up   \n",
       "2019-07-15 19:14:59.006222010  65398  0000000100000000  header up   \n",
       "2019-07-15 19:14:59.010577917  65263  ffffff62ffff3200  header up   \n",
       "\n",
       "                                       right             op  \n",
       "ts                                                           \n",
       "2019-07-15 19:14:59.000248909  not available  not available  \n",
       "2019-07-15 19:14:59.005065918  not available  not available  \n",
       "2019-07-15 19:14:59.005640030  not available  not available  \n",
       "2019-07-15 19:14:59.006222010  not available  not available  \n",
       "2019-07-15 19:14:59.010577917  not available  not available  "
      ]
     },
     "execution_count": 2,
     "metadata": {},
     "output_type": "execute_result"
    }
   ],
   "source": [
    "ltra_path = '/home/yang/research/explicator/tra_labeled.h5'\n",
    "\n",
    "ltra_df = pd.read_hdf(ltra_path)\n",
    "ltra_df.head()"
   ]
  },
  {
   "cell_type": "markdown",
   "metadata": {},
   "source": [
    "Group the labeled tractor bus by PGN"
   ]
  },
  {
   "cell_type": "code",
   "execution_count": 3,
   "metadata": {},
   "outputs": [],
   "source": [
    "grp = ltra_df.groupby('pgn')"
   ]
  },
  {
   "cell_type": "markdown",
   "metadata": {},
   "source": [
    "### Investigate PGN 61444\n",
    "\n",
    "Get Electronic Engine Controller 1 (EEC1) group"
   ]
  },
  {
   "cell_type": "code",
   "execution_count": 11,
   "metadata": {},
   "outputs": [
    {
     "data": {
      "text/html": [
       "<div>\n",
       "<style scoped>\n",
       "    .dataframe tbody tr th:only-of-type {\n",
       "        vertical-align: middle;\n",
       "    }\n",
       "\n",
       "    .dataframe tbody tr th {\n",
       "        vertical-align: top;\n",
       "    }\n",
       "\n",
       "    .dataframe thead th {\n",
       "        text-align: right;\n",
       "    }\n",
       "</style>\n",
       "<table border=\"1\" class=\"dataframe\">\n",
       "  <thead>\n",
       "    <tr style=\"text-align: right;\">\n",
       "      <th></th>\n",
       "      <th>pgn</th>\n",
       "      <th>payload</th>\n",
       "      <th>left</th>\n",
       "      <th>right</th>\n",
       "      <th>op</th>\n",
       "    </tr>\n",
       "    <tr>\n",
       "      <th>ts</th>\n",
       "      <th></th>\n",
       "      <th></th>\n",
       "      <th></th>\n",
       "      <th></th>\n",
       "      <th></th>\n",
       "    </tr>\n",
       "  </thead>\n",
       "  <tbody>\n",
       "    <tr>\n",
       "      <th>2019-07-15 19:14:59.016138077</th>\n",
       "      <td>61444</td>\n",
       "      <td>f87db66c3400ffff</td>\n",
       "      <td>header up</td>\n",
       "      <td>not available</td>\n",
       "      <td>not available</td>\n",
       "    </tr>\n",
       "    <tr>\n",
       "      <th>2019-07-15 19:14:59.035209894</th>\n",
       "      <td>61444</td>\n",
       "      <td>f87db7803400ffff</td>\n",
       "      <td>header up</td>\n",
       "      <td>not available</td>\n",
       "      <td>not available</td>\n",
       "    </tr>\n",
       "    <tr>\n",
       "      <th>2019-07-15 19:14:59.055143833</th>\n",
       "      <td>61444</td>\n",
       "      <td>f87db8bc3400ffff</td>\n",
       "      <td>header up</td>\n",
       "      <td>not available</td>\n",
       "      <td>not available</td>\n",
       "    </tr>\n",
       "    <tr>\n",
       "      <th>2019-07-15 19:14:59.075014114</th>\n",
       "      <td>61444</td>\n",
       "      <td>f87db92d3500ffff</td>\n",
       "      <td>header up</td>\n",
       "      <td>not available</td>\n",
       "      <td>not available</td>\n",
       "    </tr>\n",
       "    <tr>\n",
       "      <th>2019-07-15 19:14:59.095180035</th>\n",
       "      <td>61444</td>\n",
       "      <td>f87db9813500ffff</td>\n",
       "      <td>header up</td>\n",
       "      <td>not available</td>\n",
       "      <td>not available</td>\n",
       "    </tr>\n",
       "  </tbody>\n",
       "</table>\n",
       "</div>"
      ],
      "text/plain": [
       "                                 pgn           payload       left  \\\n",
       "ts                                                                  \n",
       "2019-07-15 19:14:59.016138077  61444  f87db66c3400ffff  header up   \n",
       "2019-07-15 19:14:59.035209894  61444  f87db7803400ffff  header up   \n",
       "2019-07-15 19:14:59.055143833  61444  f87db8bc3400ffff  header up   \n",
       "2019-07-15 19:14:59.075014114  61444  f87db92d3500ffff  header up   \n",
       "2019-07-15 19:14:59.095180035  61444  f87db9813500ffff  header up   \n",
       "\n",
       "                                       right             op  \n",
       "ts                                                           \n",
       "2019-07-15 19:14:59.016138077  not available  not available  \n",
       "2019-07-15 19:14:59.035209894  not available  not available  \n",
       "2019-07-15 19:14:59.055143833  not available  not available  \n",
       "2019-07-15 19:14:59.075014114  not available  not available  \n",
       "2019-07-15 19:14:59.095180035  not available  not available  "
      ]
     },
     "execution_count": 11,
     "metadata": {},
     "output_type": "execute_result"
    }
   ],
   "source": [
    "eec1 = grp.get_group(61444)\n",
    "eec1.head()"
   ]
  },
  {
   "cell_type": "markdown",
   "metadata": {},
   "source": [
    "Let's drop the labels columns for now"
   ]
  },
  {
   "cell_type": "code",
   "execution_count": 12,
   "metadata": {},
   "outputs": [
    {
     "data": {
      "text/html": [
       "<div>\n",
       "<style scoped>\n",
       "    .dataframe tbody tr th:only-of-type {\n",
       "        vertical-align: middle;\n",
       "    }\n",
       "\n",
       "    .dataframe tbody tr th {\n",
       "        vertical-align: top;\n",
       "    }\n",
       "\n",
       "    .dataframe thead th {\n",
       "        text-align: right;\n",
       "    }\n",
       "</style>\n",
       "<table border=\"1\" class=\"dataframe\">\n",
       "  <thead>\n",
       "    <tr style=\"text-align: right;\">\n",
       "      <th></th>\n",
       "      <th>payload</th>\n",
       "    </tr>\n",
       "    <tr>\n",
       "      <th>ts</th>\n",
       "      <th></th>\n",
       "    </tr>\n",
       "  </thead>\n",
       "  <tbody>\n",
       "    <tr>\n",
       "      <th>2019-07-15 19:14:59.016138077</th>\n",
       "      <td>f87db66c3400ffff</td>\n",
       "    </tr>\n",
       "    <tr>\n",
       "      <th>2019-07-15 19:14:59.035209894</th>\n",
       "      <td>f87db7803400ffff</td>\n",
       "    </tr>\n",
       "    <tr>\n",
       "      <th>2019-07-15 19:14:59.055143833</th>\n",
       "      <td>f87db8bc3400ffff</td>\n",
       "    </tr>\n",
       "    <tr>\n",
       "      <th>2019-07-15 19:14:59.075014114</th>\n",
       "      <td>f87db92d3500ffff</td>\n",
       "    </tr>\n",
       "    <tr>\n",
       "      <th>2019-07-15 19:14:59.095180035</th>\n",
       "      <td>f87db9813500ffff</td>\n",
       "    </tr>\n",
       "  </tbody>\n",
       "</table>\n",
       "</div>"
      ],
      "text/plain": [
       "                                        payload\n",
       "ts                                             \n",
       "2019-07-15 19:14:59.016138077  f87db66c3400ffff\n",
       "2019-07-15 19:14:59.035209894  f87db7803400ffff\n",
       "2019-07-15 19:14:59.055143833  f87db8bc3400ffff\n",
       "2019-07-15 19:14:59.075014114  f87db92d3500ffff\n",
       "2019-07-15 19:14:59.095180035  f87db9813500ffff"
      ]
     },
     "execution_count": 12,
     "metadata": {},
     "output_type": "execute_result"
    }
   ],
   "source": [
    "eec1 = eec1.drop(['pgn', 'left', 'right', 'op'], axis=1)\n",
    "eec1.head()"
   ]
  },
  {
   "cell_type": "code",
   "execution_count": 13,
   "metadata": {},
   "outputs": [],
   "source": [
    "# function to convert hex string to binary strings\n",
    "def hex2bin(hex_str):\n",
    "    scale = 16 # equals to hexadecimal\n",
    "    num_of_bits = 64\n",
    "    return str(bin(int(hex_str, scale))[2:].zfill(num_of_bits))"
   ]
  },
  {
   "cell_type": "markdown",
   "metadata": {},
   "source": [
    "Convert hex payload string to binary payload string"
   ]
  },
  {
   "cell_type": "code",
   "execution_count": 14,
   "metadata": {},
   "outputs": [
    {
     "data": {
      "text/html": [
       "<div>\n",
       "<style scoped>\n",
       "    .dataframe tbody tr th:only-of-type {\n",
       "        vertical-align: middle;\n",
       "    }\n",
       "\n",
       "    .dataframe tbody tr th {\n",
       "        vertical-align: top;\n",
       "    }\n",
       "\n",
       "    .dataframe thead th {\n",
       "        text-align: right;\n",
       "    }\n",
       "</style>\n",
       "<table border=\"1\" class=\"dataframe\">\n",
       "  <thead>\n",
       "    <tr style=\"text-align: right;\">\n",
       "      <th></th>\n",
       "      <th>payload</th>\n",
       "      <th>payload_bin</th>\n",
       "    </tr>\n",
       "    <tr>\n",
       "      <th>ts</th>\n",
       "      <th></th>\n",
       "      <th></th>\n",
       "    </tr>\n",
       "  </thead>\n",
       "  <tbody>\n",
       "    <tr>\n",
       "      <th>2019-07-15 19:14:59.016138077</th>\n",
       "      <td>f87db66c3400ffff</td>\n",
       "      <td>1111100001111101101101100110110000110100000000...</td>\n",
       "    </tr>\n",
       "    <tr>\n",
       "      <th>2019-07-15 19:14:59.035209894</th>\n",
       "      <td>f87db7803400ffff</td>\n",
       "      <td>1111100001111101101101111000000000110100000000...</td>\n",
       "    </tr>\n",
       "    <tr>\n",
       "      <th>2019-07-15 19:14:59.055143833</th>\n",
       "      <td>f87db8bc3400ffff</td>\n",
       "      <td>1111100001111101101110001011110000110100000000...</td>\n",
       "    </tr>\n",
       "    <tr>\n",
       "      <th>2019-07-15 19:14:59.075014114</th>\n",
       "      <td>f87db92d3500ffff</td>\n",
       "      <td>1111100001111101101110010010110100110101000000...</td>\n",
       "    </tr>\n",
       "    <tr>\n",
       "      <th>2019-07-15 19:14:59.095180035</th>\n",
       "      <td>f87db9813500ffff</td>\n",
       "      <td>1111100001111101101110011000000100110101000000...</td>\n",
       "    </tr>\n",
       "  </tbody>\n",
       "</table>\n",
       "</div>"
      ],
      "text/plain": [
       "                                        payload  \\\n",
       "ts                                                \n",
       "2019-07-15 19:14:59.016138077  f87db66c3400ffff   \n",
       "2019-07-15 19:14:59.035209894  f87db7803400ffff   \n",
       "2019-07-15 19:14:59.055143833  f87db8bc3400ffff   \n",
       "2019-07-15 19:14:59.075014114  f87db92d3500ffff   \n",
       "2019-07-15 19:14:59.095180035  f87db9813500ffff   \n",
       "\n",
       "                                                                     payload_bin  \n",
       "ts                                                                                \n",
       "2019-07-15 19:14:59.016138077  1111100001111101101101100110110000110100000000...  \n",
       "2019-07-15 19:14:59.035209894  1111100001111101101101111000000000110100000000...  \n",
       "2019-07-15 19:14:59.055143833  1111100001111101101110001011110000110100000000...  \n",
       "2019-07-15 19:14:59.075014114  1111100001111101101110010010110100110101000000...  \n",
       "2019-07-15 19:14:59.095180035  1111100001111101101110011000000100110101000000...  "
      ]
     },
     "execution_count": 14,
     "metadata": {},
     "output_type": "execute_result"
    }
   ],
   "source": [
    "eec1['payload_bin'] = ''\n",
    "eec1['payload_bin'] = eec1['payload'].apply(lambda x: hex2bin(x))\n",
    "eec1.head()"
   ]
  },
  {
   "cell_type": "markdown",
   "metadata": {},
   "source": [
    "Create a new dataframe that holds individual bit values"
   ]
  },
  {
   "cell_type": "code",
   "execution_count": 15,
   "metadata": {},
   "outputs": [
    {
     "data": {
      "text/html": [
       "<div>\n",
       "<style scoped>\n",
       "    .dataframe tbody tr th:only-of-type {\n",
       "        vertical-align: middle;\n",
       "    }\n",
       "\n",
       "    .dataframe tbody tr th {\n",
       "        vertical-align: top;\n",
       "    }\n",
       "\n",
       "    .dataframe thead th {\n",
       "        text-align: right;\n",
       "    }\n",
       "</style>\n",
       "<table border=\"1\" class=\"dataframe\">\n",
       "  <thead>\n",
       "    <tr style=\"text-align: right;\">\n",
       "      <th></th>\n",
       "      <th>0</th>\n",
       "      <th>1</th>\n",
       "      <th>2</th>\n",
       "      <th>3</th>\n",
       "      <th>4</th>\n",
       "      <th>5</th>\n",
       "      <th>6</th>\n",
       "      <th>7</th>\n",
       "      <th>8</th>\n",
       "      <th>9</th>\n",
       "      <th>...</th>\n",
       "      <th>54</th>\n",
       "      <th>55</th>\n",
       "      <th>56</th>\n",
       "      <th>57</th>\n",
       "      <th>58</th>\n",
       "      <th>59</th>\n",
       "      <th>60</th>\n",
       "      <th>61</th>\n",
       "      <th>62</th>\n",
       "      <th>63</th>\n",
       "    </tr>\n",
       "  </thead>\n",
       "  <tbody>\n",
       "  </tbody>\n",
       "</table>\n",
       "<p>0 rows × 64 columns</p>\n",
       "</div>"
      ],
      "text/plain": [
       "Empty DataFrame\n",
       "Columns: [0, 1, 2, 3, 4, 5, 6, 7, 8, 9, 10, 11, 12, 13, 14, 15, 16, 17, 18, 19, 20, 21, 22, 23, 24, 25, 26, 27, 28, 29, 30, 31, 32, 33, 34, 35, 36, 37, 38, 39, 40, 41, 42, 43, 44, 45, 46, 47, 48, 49, 50, 51, 52, 53, 54, 55, 56, 57, 58, 59, 60, 61, 62, 63]\n",
       "Index: []\n",
       "\n",
       "[0 rows x 64 columns]"
      ]
     },
     "execution_count": 15,
     "metadata": {},
     "output_type": "execute_result"
    }
   ],
   "source": [
    "eec1_b = pd.DataFrame()\n",
    "for n in range(0, 64):\n",
    "    eec1_b[str(n)] = ''\n",
    "eec1_b.head()"
   ]
  },
  {
   "cell_type": "code",
   "execution_count": 16,
   "metadata": {},
   "outputs": [],
   "source": [
    "# function to map binary stream to columns\n",
    "def map2col(n, payload_bin_str):\n",
    "    bin_vals = list(payload_bin_str)\n",
    "    return bin_vals[n]"
   ]
  },
  {
   "cell_type": "code",
   "execution_count": 22,
   "metadata": {},
   "outputs": [
    {
     "data": {
      "text/html": [
       "<div>\n",
       "<style scoped>\n",
       "    .dataframe tbody tr th:only-of-type {\n",
       "        vertical-align: middle;\n",
       "    }\n",
       "\n",
       "    .dataframe tbody tr th {\n",
       "        vertical-align: top;\n",
       "    }\n",
       "\n",
       "    .dataframe thead th {\n",
       "        text-align: right;\n",
       "    }\n",
       "</style>\n",
       "<table border=\"1\" class=\"dataframe\">\n",
       "  <thead>\n",
       "    <tr style=\"text-align: right;\">\n",
       "      <th></th>\n",
       "      <th>0</th>\n",
       "      <th>1</th>\n",
       "      <th>2</th>\n",
       "      <th>3</th>\n",
       "      <th>4</th>\n",
       "      <th>5</th>\n",
       "      <th>6</th>\n",
       "      <th>7</th>\n",
       "      <th>8</th>\n",
       "      <th>9</th>\n",
       "      <th>...</th>\n",
       "      <th>54</th>\n",
       "      <th>55</th>\n",
       "      <th>56</th>\n",
       "      <th>57</th>\n",
       "      <th>58</th>\n",
       "      <th>59</th>\n",
       "      <th>60</th>\n",
       "      <th>61</th>\n",
       "      <th>62</th>\n",
       "      <th>63</th>\n",
       "    </tr>\n",
       "    <tr>\n",
       "      <th>ts</th>\n",
       "      <th></th>\n",
       "      <th></th>\n",
       "      <th></th>\n",
       "      <th></th>\n",
       "      <th></th>\n",
       "      <th></th>\n",
       "      <th></th>\n",
       "      <th></th>\n",
       "      <th></th>\n",
       "      <th></th>\n",
       "      <th></th>\n",
       "      <th></th>\n",
       "      <th></th>\n",
       "      <th></th>\n",
       "      <th></th>\n",
       "      <th></th>\n",
       "      <th></th>\n",
       "      <th></th>\n",
       "      <th></th>\n",
       "      <th></th>\n",
       "      <th></th>\n",
       "    </tr>\n",
       "  </thead>\n",
       "  <tbody>\n",
       "    <tr>\n",
       "      <th>2019-07-15 19:14:59.016138077</th>\n",
       "      <td>1</td>\n",
       "      <td>1</td>\n",
       "      <td>1</td>\n",
       "      <td>1</td>\n",
       "      <td>1</td>\n",
       "      <td>0</td>\n",
       "      <td>0</td>\n",
       "      <td>0</td>\n",
       "      <td>0</td>\n",
       "      <td>1</td>\n",
       "      <td>...</td>\n",
       "      <td>1</td>\n",
       "      <td>1</td>\n",
       "      <td>1</td>\n",
       "      <td>1</td>\n",
       "      <td>1</td>\n",
       "      <td>1</td>\n",
       "      <td>1</td>\n",
       "      <td>1</td>\n",
       "      <td>1</td>\n",
       "      <td>1</td>\n",
       "    </tr>\n",
       "    <tr>\n",
       "      <th>2019-07-15 19:14:59.035209894</th>\n",
       "      <td>1</td>\n",
       "      <td>1</td>\n",
       "      <td>1</td>\n",
       "      <td>1</td>\n",
       "      <td>1</td>\n",
       "      <td>0</td>\n",
       "      <td>0</td>\n",
       "      <td>0</td>\n",
       "      <td>0</td>\n",
       "      <td>1</td>\n",
       "      <td>...</td>\n",
       "      <td>1</td>\n",
       "      <td>1</td>\n",
       "      <td>1</td>\n",
       "      <td>1</td>\n",
       "      <td>1</td>\n",
       "      <td>1</td>\n",
       "      <td>1</td>\n",
       "      <td>1</td>\n",
       "      <td>1</td>\n",
       "      <td>1</td>\n",
       "    </tr>\n",
       "    <tr>\n",
       "      <th>2019-07-15 19:14:59.055143833</th>\n",
       "      <td>1</td>\n",
       "      <td>1</td>\n",
       "      <td>1</td>\n",
       "      <td>1</td>\n",
       "      <td>1</td>\n",
       "      <td>0</td>\n",
       "      <td>0</td>\n",
       "      <td>0</td>\n",
       "      <td>0</td>\n",
       "      <td>1</td>\n",
       "      <td>...</td>\n",
       "      <td>1</td>\n",
       "      <td>1</td>\n",
       "      <td>1</td>\n",
       "      <td>1</td>\n",
       "      <td>1</td>\n",
       "      <td>1</td>\n",
       "      <td>1</td>\n",
       "      <td>1</td>\n",
       "      <td>1</td>\n",
       "      <td>1</td>\n",
       "    </tr>\n",
       "    <tr>\n",
       "      <th>2019-07-15 19:14:59.075014114</th>\n",
       "      <td>1</td>\n",
       "      <td>1</td>\n",
       "      <td>1</td>\n",
       "      <td>1</td>\n",
       "      <td>1</td>\n",
       "      <td>0</td>\n",
       "      <td>0</td>\n",
       "      <td>0</td>\n",
       "      <td>0</td>\n",
       "      <td>1</td>\n",
       "      <td>...</td>\n",
       "      <td>1</td>\n",
       "      <td>1</td>\n",
       "      <td>1</td>\n",
       "      <td>1</td>\n",
       "      <td>1</td>\n",
       "      <td>1</td>\n",
       "      <td>1</td>\n",
       "      <td>1</td>\n",
       "      <td>1</td>\n",
       "      <td>1</td>\n",
       "    </tr>\n",
       "    <tr>\n",
       "      <th>2019-07-15 19:14:59.095180035</th>\n",
       "      <td>1</td>\n",
       "      <td>1</td>\n",
       "      <td>1</td>\n",
       "      <td>1</td>\n",
       "      <td>1</td>\n",
       "      <td>0</td>\n",
       "      <td>0</td>\n",
       "      <td>0</td>\n",
       "      <td>0</td>\n",
       "      <td>1</td>\n",
       "      <td>...</td>\n",
       "      <td>1</td>\n",
       "      <td>1</td>\n",
       "      <td>1</td>\n",
       "      <td>1</td>\n",
       "      <td>1</td>\n",
       "      <td>1</td>\n",
       "      <td>1</td>\n",
       "      <td>1</td>\n",
       "      <td>1</td>\n",
       "      <td>1</td>\n",
       "    </tr>\n",
       "  </tbody>\n",
       "</table>\n",
       "<p>5 rows × 128 columns</p>\n",
       "</div>"
      ],
      "text/plain": [
       "                               0  1  2  3  4  5  6  7  8  9  ... 54 55 56 57  \\\n",
       "ts                                                           ...               \n",
       "2019-07-15 19:14:59.016138077  1  1  1  1  1  0  0  0  0  1  ...  1  1  1  1   \n",
       "2019-07-15 19:14:59.035209894  1  1  1  1  1  0  0  0  0  1  ...  1  1  1  1   \n",
       "2019-07-15 19:14:59.055143833  1  1  1  1  1  0  0  0  0  1  ...  1  1  1  1   \n",
       "2019-07-15 19:14:59.075014114  1  1  1  1  1  0  0  0  0  1  ...  1  1  1  1   \n",
       "2019-07-15 19:14:59.095180035  1  1  1  1  1  0  0  0  0  1  ...  1  1  1  1   \n",
       "\n",
       "                              58 59 60 61 62 63  \n",
       "ts                                               \n",
       "2019-07-15 19:14:59.016138077  1  1  1  1  1  1  \n",
       "2019-07-15 19:14:59.035209894  1  1  1  1  1  1  \n",
       "2019-07-15 19:14:59.055143833  1  1  1  1  1  1  \n",
       "2019-07-15 19:14:59.075014114  1  1  1  1  1  1  \n",
       "2019-07-15 19:14:59.095180035  1  1  1  1  1  1  \n",
       "\n",
       "[5 rows x 128 columns]"
      ]
     },
     "execution_count": 22,
     "metadata": {},
     "output_type": "execute_result"
    }
   ],
   "source": [
    "for n in range(0, 64):\n",
    "    eec1_b[n] = eec1['payload_bin'].apply(lambda x: map2col(n, x))\n",
    "eec1_b.head()"
   ]
  },
  {
   "cell_type": "markdown",
   "metadata": {},
   "source": [
    "### Inspect the bits\n",
    "\n",
    "The decoding information for EEC1 (PGN 61444) is pretty prevalent online (i.e., [here](http://www.simmasoftware.com/j1939-pgn.html)). We will use the defined field boundaries and investigate the raw values (that is, without scaling factor or offset) of these fields."
   ]
  },
  {
   "cell_type": "code",
   "execution_count": 44,
   "metadata": {},
   "outputs": [],
   "source": [
    "# function to put bits into a list of decimal values\n",
    "def get_raw_val(df, start_idx, end_idx):\n",
    "    val = []\n",
    "    for _, row in df.iterrows():\n",
    "        val.append(int(''.join(row[start_idx:(end_idx+1)].values), 2))\n",
    "        \n",
    "    return val"
   ]
  },
  {
   "cell_type": "markdown",
   "metadata": {},
   "source": [
    "EEC1 field definitions:\n",
    "\n",
    " * 1.1\t  | 4 bits\t| Engine Torque Mode\n",
    " * 2\t  | 1 byte\t| Driver's Demand Engine - Percent Torque\n",
    " * 3\t  | 1 byte\t| Actual Engine - Percent Torque\n",
    " * 4-5\t  | 2 bytes\t| Engine Speed\n",
    " * 6\t  | 1 byte\t| Source Address of Controlling Device of Engine\n",
    " * 7.1\t  | 4 bits\t| Engine Starter Mode\n",
    " * 8\t  | 1 byte\t| Engine Demand - Percent Torque"
   ]
  },
  {
   "cell_type": "code",
   "execution_count": 49,
   "metadata": {},
   "outputs": [],
   "source": [
    "val1 = get_raw_val(eec1_b, 0, 4)"
   ]
  },
  {
   "cell_type": "code",
   "execution_count": 52,
   "metadata": {},
   "outputs": [],
   "source": [
    "val2 = get_raw_val(eec1_b, 8, 15)\n",
    "val3 = get_raw_val(eec1_b, 16, 23)\n",
    "# skip engine speed\n",
    "val4 = get_raw_val(eec1_b, 40, 47)\n",
    "val5 = get_raw_val(eec1_b, 48, 52)\n",
    "val6 = get_raw_val(eec1_b, 56, 63)"
   ]
  },
  {
   "cell_type": "code",
   "execution_count": 55,
   "metadata": {},
   "outputs": [],
   "source": [
    "eec1_p = pd.DataFrame({'etm': val1, 'ddept': val2, 'aept': val3, 'sacde': val4, 'esm': val5, 'edpt': val6})"
   ]
  },
  {
   "cell_type": "code",
   "execution_count": 78,
   "metadata": {},
   "outputs": [],
   "source": [
    "avg = {}\n",
    "std = {}\n",
    "for col in eec1_p.columns:\n",
    "    eec1_p[col] = eec1_p[col].div(eec1_p[col].max())\n",
    "    avg[col] = eec1_p[col].mean()\n",
    "    std[col] = eec1_p[col].std()"
   ]
  },
  {
   "cell_type": "code",
   "execution_count": 70,
   "metadata": {},
   "outputs": [
    {
     "data": {
      "text/plain": [
       "[<matplotlib.lines.Line2D at 0x7fb48901c7d0>]"
      ]
     },
     "execution_count": 70,
     "metadata": {},
     "output_type": "execute_result"
    },
    {
     "data": {
      "image/png": "[encoded data removed]",
      "text/plain": [
       "<Figure size 1296x144 with 1 Axes>"
      ]
     },
     "metadata": {
      "needs_background": "light"
     },
     "output_type": "display_data"
    }
   ],
   "source": [
    "plt.figure(figsize=(18,2))\n",
    "plt.plot(eec1_p['etm'], 'b-o', markersize=1)"
   ]
  },
  {
   "cell_type": "code",
   "execution_count": 71,
   "metadata": {},
   "outputs": [
    {
     "data": {
      "text/plain": [
       "[<matplotlib.lines.Line2D at 0x7fb488f7fc10>]"
      ]
     },
     "execution_count": 71,
     "metadata": {},
     "output_type": "execute_result"
    },
    {
     "data": {
      "image/png": "[encoded data removed]",
      "text/plain": [
       "<Figure size 1296x144 with 1 Axes>"
      ]
     },
     "metadata": {
      "needs_background": "light"
     },
     "output_type": "display_data"
    }
   ],
   "source": [
    "plt.figure(figsize=(18,2))\n",
    "plt.plot(eec1_p['ddept'], 'b-o', markersize=1)"
   ]
  },
  {
   "cell_type": "code",
   "execution_count": 72,
   "metadata": {},
   "outputs": [
    {
     "data": {
      "text/plain": [
       "[<matplotlib.lines.Line2D at 0x7fb488ef1650>]"
      ]
     },
     "execution_count": 72,
     "metadata": {},
     "output_type": "execute_result"
    },
    {
     "data": {
      "image/png": "[encoded data removed]",
      "text/plain": [
       "<Figure size 1296x144 with 1 Axes>"
      ]
     },
     "metadata": {
      "needs_background": "light"
     },
     "output_type": "display_data"
    }
   ],
   "source": [
    "plt.figure(figsize=(18,2))\n",
    "plt.plot(eec1_p['aept'], 'b-o', markersize=1)"
   ]
  },
  {
   "cell_type": "code",
   "execution_count": 73,
   "metadata": {},
   "outputs": [
    {
     "data": {
      "text/plain": [
       "[<matplotlib.lines.Line2D at 0x7fb488ed7ad0>]"
      ]
     },
     "execution_count": 73,
     "metadata": {},
     "output_type": "execute_result"
    },
    {
     "data": {
      "image/png": "[encoded data removed]",
      "text/plain": [
       "<Figure size 1296x144 with 1 Axes>"
      ]
     },
     "metadata": {
      "needs_background": "light"
     },
     "output_type": "display_data"
    }
   ],
   "source": [
    "plt.figure(figsize=(18,2))\n",
    "plt.plot(eec1_p['sacde'], 'b-o', markersize=1)"
   ]
  },
  {
   "cell_type": "code",
   "execution_count": 74,
   "metadata": {},
   "outputs": [
    {
     "data": {
      "text/plain": [
       "[<matplotlib.lines.Line2D at 0x7fb488e3d990>]"
      ]
     },
     "execution_count": 74,
     "metadata": {},
     "output_type": "execute_result"
    },
    {
     "data": {
      "image/png": "[encoded data removed]",
      "text/plain": [
       "<Figure size 1296x144 with 1 Axes>"
      ]
     },
     "metadata": {
      "needs_background": "light"
     },
     "output_type": "display_data"
    }
   ],
   "source": [
    "plt.figure(figsize=(18,2))\n",
    "plt.plot(eec1_p['esm'], 'b-o', markersize=1)"
   ]
  },
  {
   "cell_type": "code",
   "execution_count": 75,
   "metadata": {},
   "outputs": [
    {
     "data": {
      "text/plain": [
       "[<matplotlib.lines.Line2D at 0x7fb488dab450>]"
      ]
     },
     "execution_count": 75,
     "metadata": {},
     "output_type": "execute_result"
    },
    {
     "data": {
      "image/png": "[encoded data removed]",
      "text/plain": [
       "<Figure size 1296x144 with 1 Axes>"
      ]
     },
     "metadata": {
      "needs_background": "light"
     },
     "output_type": "display_data"
    }
   ],
   "source": [
    "plt.figure(figsize=(18,2))\n",
    "plt.plot(eec1_p['edpt'], 'b-o', markersize=1)"
   ]
  },
  {
   "cell_type": "code",
   "execution_count": 79,
   "metadata": {},
   "outputs": [
    {
     "name": "stdout",
     "output_type": "stream",
     "text": [
      "{'etm': 0.9991015030879067, 'ddept': 1.0, 'aept': 0.8361839732380828, 'sacde': nan, 'esm': 1.0, 'edpt': 1.0} {'etm': 0.005308166083170852, 'ddept': 0.0, 'aept': 0.05823446878598462, 'sacde': nan, 'esm': 0.0, 'edpt': 0.0}\n"
     ]
    }
   ],
   "source": [
    "print(avg, std)"
   ]
  }
 ],
 "metadata": {
  "kernelspec": {
   "display_name": "Python 3",
   "language": "python",
   "name": "python3"
  },
  "language_info": {
   "codemirror_mode": {
    "name": "ipython",
    "version": 3
   },
   "file_extension": ".py",
   "mimetype": "text/x-python",
   "name": "python",
   "nbconvert_exporter": "python",
   "pygments_lexer": "ipython3",
   "version": "3.7.7"
  }
 },
 "nbformat": 4,
 "nbformat_minor": 4
}
