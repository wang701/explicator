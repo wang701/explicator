{
 "cells": [
  {
   "cell_type": "markdown",
   "metadata": {},
   "source": [
    "# Generate label dataframes from JSON files\n",
    "\n",
    " * The goal for this notebook is to put JSON label files into dataframes.\n",
    " * There are three camera viewing angles so there will be three dataframes generated.\n",
    " * Three dataframes will be merged. \n",
    " * The merged dataframe specification:\n",
    "   * Index column: epoch timestamp (second resolution)\n",
    "   * Data colomns: left, right, op"
   ]
  },
  {
   "cell_type": "code",
   "execution_count": null,
   "metadata": {},
   "outputs": [],
   "source": [
    "import pandas as pd\n",
    "import numpy as np\n",
    "import os\n",
    "import json\n",
    "import time\n",
    "\n",
    "from calendar import timegm"
   ]
  },
  {
   "cell_type": "markdown",
   "metadata": {},
   "source": [
    "Specify the necessary parameters to start:\n",
    "  * `base_dir`: label root directory\n",
    "  * `cam_angle`: camera angle, also as part of the path\n",
    "  * `f_prefix`: label file prefix\n",
    "  * `f_suffix`: label file suffix"
   ]
  },
  {
   "cell_type": "code",
   "execution_count": null,
   "metadata": {},
   "outputs": [],
   "source": [
    "base_dir = '/home/yang/research/dock/explicator/tri-cam-labeled'\n",
    "cam_angle = 'left'\n",
    "f_prefix = 'out_'\n",
    "f_suffix = '_fin-header-pos-labels.json'"
   ]
  },
  {
   "cell_type": "markdown",
   "metadata": {},
   "source": [
    "Find all the folders under the directory. Remove the first one as it is the top level folder."
   ]
  },
  {
   "cell_type": "code",
   "execution_count": null,
   "metadata": {},
   "outputs": [],
   "source": [
    "fol = [x[0] for x in os.walk(os.path.join(base_dir, cam_angle))]\n",
    "del fol[0]"
   ]
  },
  {
   "cell_type": "markdown",
   "metadata": {},
   "source": [
    "Initialize two lists. One for storing the parsed timestamps and one for storing the text labels."
   ]
  },
  {
   "cell_type": "code",
   "execution_count": null,
   "metadata": {},
   "outputs": [],
   "source": [
    "ts = []\n",
    "labels = []"
   ]
  },
  {
   "cell_type": "markdown",
   "metadata": {},
   "source": [
    "Go through all the label files in folders:\n",
    "  1. Read JSON file\n",
    "  2. The timestamps are calculated as: `ts = base_ts + clip_idx`. Since each clip is 1 second, each `clip_idx` indicates the time has passed by 1 second. Append the calculated timestamps into `ts` list.\n",
    "  3. Append the labels to `labels` list."
   ]
  },
  {
   "cell_type": "code",
   "execution_count": null,
   "metadata": {},
   "outputs": [],
   "source": [
    "for f in fol:\n",
    "    base_ts_str = os.path.basename(f)\n",
    "    utc_ts = time.strptime(base_ts_str, \"%Y-%m-%d_%H-%M-%S\")\n",
    "    base_ts = timegm(utc_ts)\n",
    "    with open(os.path.join(f, f_prefix + os.path.basename(f) + f_suffix), 'r') as ff:\n",
    "        j = json.loads(ff.read())\n",
    "        for item in j:\n",
    "            clip_idx = int(os.path.basename(item['video']).split('_')[5].replace('.mp4', ''))\n",
    "            ts.append(base_ts + clip_idx)\n",
    "            labels.append(item['label'])"
   ]
  },
  {
   "cell_type": "markdown",
   "metadata": {},
   "source": [
    "A quick verification to look at the length of the resultant lists."
   ]
  },
  {
   "cell_type": "code",
   "execution_count": null,
   "metadata": {},
   "outputs": [],
   "source": [
    "print(len(ts), len(labels))"
   ]
  },
  {
   "cell_type": "markdown",
   "metadata": {},
   "source": [
    "Create a pd dataframe from `ts` and `labels` lists. Set `ts` as the index."
   ]
  },
  {
   "cell_type": "code",
   "execution_count": null,
   "metadata": {},
   "outputs": [],
   "source": [
    "left_df = pd.DataFrame({'ts': ts, 'label': labels})\n",
    "\n",
    "left_df.index = pd.to_datetime(left_df['ts'], unit='s')\n",
    "\n",
    "left_df = left_df.sort_index().drop(columns=['ts'])\n",
    "left_df.head(10)"
   ]
  },
  {
   "cell_type": "markdown",
   "metadata": {},
   "source": [
    "Perform the same procedure to `right` and `op` JSON files."
   ]
  },
  {
   "cell_type": "code",
   "execution_count": null,
   "metadata": {},
   "outputs": [],
   "source": [
    "cam_angle = 'right'"
   ]
  },
  {
   "cell_type": "code",
   "execution_count": null,
   "metadata": {},
   "outputs": [],
   "source": [
    "fol = [x[0] for x in os.walk(os.path.join(base_dir, cam_angle))]\n",
    "del fol[0]\n",
    "\n",
    "ts = []\n",
    "labels = []\n",
    "\n",
    "for f in fol:\n",
    "    base_ts_str = os.path.basename(f)\n",
    "    utc_ts = time.strptime(base_ts_str, \"%Y-%m-%d_%H-%M-%S\")\n",
    "    base_ts = timegm(utc_ts)\n",
    "    with open(os.path.join(f, f_prefix + os.path.basename(f) + f_suffix), 'r') as ff:\n",
    "        j = json.loads(ff.read())\n",
    "        for item in j:\n",
    "            clip_idx = int(os.path.basename(item['video']).split('_')[5].replace('.mp4', ''))\n",
    "            ts.append(base_ts + clip_idx)\n",
    "            labels.append(item['label'])\n",
    "            \n",
    "right_df = pd.DataFrame({'ts': ts, 'label': labels})\n",
    "right_df.index = pd.to_datetime(right_df['ts'], unit='s')\n",
    "right_df = right_df.sort_index().drop(columns=['ts'])\n",
    "right_df.head(10)"
   ]
  },
  {
   "cell_type": "code",
   "execution_count": null,
   "metadata": {},
   "outputs": [],
   "source": [
    "cam_angle = 'op'"
   ]
  },
  {
   "cell_type": "code",
   "execution_count": null,
   "metadata": {},
   "outputs": [],
   "source": [
    "fol = [x[0] for x in os.walk(os.path.join(base_dir, cam_angle))]\n",
    "del fol[0]\n",
    "\n",
    "ts = []\n",
    "labels = []\n",
    "\n",
    "for f in fol:\n",
    "    base_ts_str = os.path.basename(f)\n",
    "    utc_ts = time.strptime(base_ts_str, \"%Y-%m-%d_%H-%M-%S\")\n",
    "    base_ts = timegm(utc_ts)\n",
    "    with open(os.path.join(f, f_prefix + os.path.basename(f) + f_suffix), 'r') as ff:\n",
    "        j = json.loads(ff.read())\n",
    "        for item in j:\n",
    "            clip_idx = int(os.path.basename(item['video']).split('_')[5].replace('.mp4', ''))\n",
    "            ts.append(base_ts + clip_idx)\n",
    "            labels.append(item['label'])\n",
    "            \n",
    "op_df = pd.DataFrame({'ts': ts, 'label': labels})\n",
    "op_df.index = pd.to_datetime(op_df['ts'], unit='s')\n",
    "op_df = op_df.sort_index().drop(columns=['ts'])\n",
    "op_df.head(10)"
   ]
  },
  {
   "cell_type": "markdown",
   "metadata": {},
   "source": [
    "Merge `left`, `right`, `op` label dataframes into one."
   ]
  },
  {
   "cell_type": "code",
   "execution_count": null,
   "metadata": {},
   "outputs": [],
   "source": [
    "m = pd.merge(left_df, right_df, how='outer', left_index=True, right_index=True, suffixes=('_left', '_right'))\n",
    "labels_df = pd.merge(m, op_df, how='outer', left_index=True, right_index=True)\n",
    "labels_df.rename(columns={'label_left': 'left', 'label_right': 'right', 'label': 'op'}, inplace=True)\n",
    "labels_df.head(10)"
   ]
  },
  {
   "cell_type": "markdown",
   "metadata": {},
   "source": [
    "Save the final merged dataframe."
   ]
  },
  {
   "cell_type": "code",
   "execution_count": null,
   "metadata": {},
   "outputs": [],
   "source": [
    "labels_df = labels_df.fillna('not available')\n",
    "labels_df.to_hdf('./labels.h5', key='labels')"
   ]
  }
 ],
 "metadata": {
  "kernelspec": {
   "display_name": "Python 3",
   "language": "python",
   "name": "python3"
  },
  "language_info": {
   "codemirror_mode": {
    "name": "ipython",
    "version": 3
   },
   "file_extension": ".py",
   "mimetype": "text/x-python",
   "name": "python",
   "nbconvert_exporter": "python",
   "pygments_lexer": "ipython3",
   "version": "3.7.7"
  }
 },
 "nbformat": 4,
 "nbformat_minor": 4
}
