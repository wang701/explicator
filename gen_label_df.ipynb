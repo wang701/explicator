{
 "cells": [
  {
   "cell_type": "markdown",
   "metadata": {},
   "source": [
    "# Generate label dataframes from JSON files\n",
    "\n",
    " * The goal for this notebook is to put JSON label files into dataframes.\n",
    " * There are three camera viewing angles so there will be three dataframes generated.\n",
    " * Three dataframes will be merged. \n",
    " * The merged dataframe specification:\n",
    "   * Index column: epoch timestamp (second resolution)\n",
    "   * Data colomns: left, right, op"
   ]
  },
  {
   "cell_type": "code",
   "execution_count": 1,
   "metadata": {},
   "outputs": [],
   "source": [
    "import pandas as pd\n",
    "import numpy as np\n",
    "import os\n",
    "import json\n",
    "import time\n",
    "\n",
    "from calendar import timegm"
   ]
  },
  {
   "cell_type": "markdown",
   "metadata": {},
   "source": [
    "Specify the necessary parameters to start:\n",
    "  * `base_dir`: label root directory\n",
    "  * `cam_angle`: camera angle, also as part of the path\n",
    "  * `f_prefix`: label file prefix\n",
    "  * `f_suffix`: label file suffix"
   ]
  },
  {
   "cell_type": "code",
   "execution_count": 2,
   "metadata": {},
   "outputs": [],
   "source": [
    "base_dir = '/home/yang/research/dock/explicator/tri-cam-labeled'\n",
    "cam_angle = 'left'\n",
    "f_prefix = 'out_'\n",
    "f_suffix = '_fin-header-pos-labels.json'"
   ]
  },
  {
   "cell_type": "markdown",
   "metadata": {},
   "source": [
    "Find all the folders under the directory. Remove the first one as it is the top level folder."
   ]
  },
  {
   "cell_type": "code",
   "execution_count": 3,
   "metadata": {},
   "outputs": [],
   "source": [
    "fol = [x[0] for x in os.walk(os.path.join(base_dir, cam_angle))]\n",
    "del fol[0]"
   ]
  },
  {
   "cell_type": "markdown",
   "metadata": {},
   "source": [
    "Initialize two lists. One for storing the parsed timestamps and one for storing the text labels."
   ]
  },
  {
   "cell_type": "code",
   "execution_count": 4,
   "metadata": {},
   "outputs": [],
   "source": [
    "ts = []\n",
    "labels = []"
   ]
  },
  {
   "cell_type": "markdown",
   "metadata": {},
   "source": [
    "Go through all the label files in folders:\n",
    "  1. Read JSON file\n",
    "  2. The timestamps are calculated as: `ts = base_ts + clip_idx`. Since each clip is 1 second, each `clip_idx` indicates the time has passed by 1 second. Append the calculated timestamps into `ts` list.\n",
    "  3. Append the labels to `labels` list."
   ]
  },
  {
   "cell_type": "code",
   "execution_count": 5,
   "metadata": {},
   "outputs": [],
   "source": [
    "for f in fol:\n",
    "    base_ts_str = os.path.basename(f)\n",
    "    utc_ts = time.strptime(base_ts_str, \"%Y-%m-%d_%H-%M-%S\")\n",
    "    base_ts = timegm(utc_ts)\n",
    "    with open(os.path.join(f, f_prefix + os.path.basename(f) + f_suffix), 'r') as ff:\n",
    "        j = json.loads(ff.read())\n",
    "        for item in j:\n",
    "            clip_idx = int(os.path.basename(item['video']).split('_')[5].replace('.mp4', ''))\n",
    "            ts.append(base_ts + clip_idx)\n",
    "            labels.append(item['label'])"
   ]
  },
  {
   "cell_type": "markdown",
   "metadata": {},
   "source": [
    "A quick verification to look at the length of the resultant lists."
   ]
  },
  {
   "cell_type": "code",
   "execution_count": 6,
   "metadata": {},
   "outputs": [
    {
     "name": "stdout",
     "output_type": "stream",
     "text": [
      "3606 3606\n"
     ]
    }
   ],
   "source": [
    "print(len(ts), len(labels))"
   ]
  },
  {
   "cell_type": "markdown",
   "metadata": {},
   "source": [
    "Create a pd dataframe from `ts` and `labels` lists. Set `ts` as the index."
   ]
  },
  {
   "cell_type": "code",
   "execution_count": 7,
   "metadata": {},
   "outputs": [
    {
     "data": {
      "text/html": [
       "<div>\n",
       "<style scoped>\n",
       "    .dataframe tbody tr th:only-of-type {\n",
       "        vertical-align: middle;\n",
       "    }\n",
       "\n",
       "    .dataframe tbody tr th {\n",
       "        vertical-align: top;\n",
       "    }\n",
       "\n",
       "    .dataframe thead th {\n",
       "        text-align: right;\n",
       "    }\n",
       "</style>\n",
       "<table border=\"1\" class=\"dataframe\">\n",
       "  <thead>\n",
       "    <tr style=\"text-align: right;\">\n",
       "      <th></th>\n",
       "      <th>label</th>\n",
       "    </tr>\n",
       "    <tr>\n",
       "      <th>ts</th>\n",
       "      <th></th>\n",
       "    </tr>\n",
       "  </thead>\n",
       "  <tbody>\n",
       "    <tr>\n",
       "      <th>2019-07-15 19:15:00</th>\n",
       "      <td>header up</td>\n",
       "    </tr>\n",
       "    <tr>\n",
       "      <th>2019-07-15 19:15:01</th>\n",
       "      <td>header up</td>\n",
       "    </tr>\n",
       "    <tr>\n",
       "      <th>2019-07-15 19:15:02</th>\n",
       "      <td>header up</td>\n",
       "    </tr>\n",
       "    <tr>\n",
       "      <th>2019-07-15 19:15:03</th>\n",
       "      <td>header up</td>\n",
       "    </tr>\n",
       "    <tr>\n",
       "      <th>2019-07-15 19:15:04</th>\n",
       "      <td>header up</td>\n",
       "    </tr>\n",
       "    <tr>\n",
       "      <th>2019-07-15 19:15:05</th>\n",
       "      <td>header up</td>\n",
       "    </tr>\n",
       "    <tr>\n",
       "      <th>2019-07-15 19:15:06</th>\n",
       "      <td>header up</td>\n",
       "    </tr>\n",
       "    <tr>\n",
       "      <th>2019-07-15 19:15:07</th>\n",
       "      <td>header up</td>\n",
       "    </tr>\n",
       "    <tr>\n",
       "      <th>2019-07-15 19:15:08</th>\n",
       "      <td>header up</td>\n",
       "    </tr>\n",
       "    <tr>\n",
       "      <th>2019-07-15 19:15:09</th>\n",
       "      <td>header up</td>\n",
       "    </tr>\n",
       "  </tbody>\n",
       "</table>\n",
       "</div>"
      ],
      "text/plain": [
       "                         label\n",
       "ts                            \n",
       "2019-07-15 19:15:00  header up\n",
       "2019-07-15 19:15:01  header up\n",
       "2019-07-15 19:15:02  header up\n",
       "2019-07-15 19:15:03  header up\n",
       "2019-07-15 19:15:04  header up\n",
       "2019-07-15 19:15:05  header up\n",
       "2019-07-15 19:15:06  header up\n",
       "2019-07-15 19:15:07  header up\n",
       "2019-07-15 19:15:08  header up\n",
       "2019-07-15 19:15:09  header up"
      ]
     },
     "execution_count": 7,
     "metadata": {},
     "output_type": "execute_result"
    }
   ],
   "source": [
    "left_df = pd.DataFrame({'ts': ts, 'label': labels})\n",
    "\n",
    "left_df.index = pd.to_datetime(left_df['ts'], unit='s')\n",
    "\n",
    "left_df = left_df.sort_index().drop(columns=['ts'])\n",
    "left_df.head(10)"
   ]
  },
  {
   "cell_type": "markdown",
   "metadata": {},
   "source": [
    "Perform the same procedure to `right` and `op` JSON files."
   ]
  },
  {
   "cell_type": "code",
   "execution_count": 8,
   "metadata": {},
   "outputs": [],
   "source": [
    "cam_angle = 'right'"
   ]
  },
  {
   "cell_type": "code",
   "execution_count": 9,
   "metadata": {},
   "outputs": [
    {
     "data": {
      "text/html": [
       "<div>\n",
       "<style scoped>\n",
       "    .dataframe tbody tr th:only-of-type {\n",
       "        vertical-align: middle;\n",
       "    }\n",
       "\n",
       "    .dataframe tbody tr th {\n",
       "        vertical-align: top;\n",
       "    }\n",
       "\n",
       "    .dataframe thead th {\n",
       "        text-align: right;\n",
       "    }\n",
       "</style>\n",
       "<table border=\"1\" class=\"dataframe\">\n",
       "  <thead>\n",
       "    <tr style=\"text-align: right;\">\n",
       "      <th></th>\n",
       "      <th>label</th>\n",
       "    </tr>\n",
       "    <tr>\n",
       "      <th>ts</th>\n",
       "      <th></th>\n",
       "    </tr>\n",
       "  </thead>\n",
       "  <tbody>\n",
       "    <tr>\n",
       "      <th>2019-07-15 19:15:05</th>\n",
       "      <td>header up</td>\n",
       "    </tr>\n",
       "    <tr>\n",
       "      <th>2019-07-15 19:15:06</th>\n",
       "      <td>header up</td>\n",
       "    </tr>\n",
       "    <tr>\n",
       "      <th>2019-07-15 19:15:07</th>\n",
       "      <td>header up</td>\n",
       "    </tr>\n",
       "    <tr>\n",
       "      <th>2019-07-15 19:15:08</th>\n",
       "      <td>header up</td>\n",
       "    </tr>\n",
       "    <tr>\n",
       "      <th>2019-07-15 19:15:09</th>\n",
       "      <td>header up</td>\n",
       "    </tr>\n",
       "    <tr>\n",
       "      <th>2019-07-15 19:15:10</th>\n",
       "      <td>header up</td>\n",
       "    </tr>\n",
       "    <tr>\n",
       "      <th>2019-07-15 19:15:11</th>\n",
       "      <td>header up</td>\n",
       "    </tr>\n",
       "    <tr>\n",
       "      <th>2019-07-15 19:15:12</th>\n",
       "      <td>header up</td>\n",
       "    </tr>\n",
       "    <tr>\n",
       "      <th>2019-07-15 19:15:13</th>\n",
       "      <td>header up</td>\n",
       "    </tr>\n",
       "    <tr>\n",
       "      <th>2019-07-15 19:15:14</th>\n",
       "      <td>header up</td>\n",
       "    </tr>\n",
       "  </tbody>\n",
       "</table>\n",
       "</div>"
      ],
      "text/plain": [
       "                         label\n",
       "ts                            \n",
       "2019-07-15 19:15:05  header up\n",
       "2019-07-15 19:15:06  header up\n",
       "2019-07-15 19:15:07  header up\n",
       "2019-07-15 19:15:08  header up\n",
       "2019-07-15 19:15:09  header up\n",
       "2019-07-15 19:15:10  header up\n",
       "2019-07-15 19:15:11  header up\n",
       "2019-07-15 19:15:12  header up\n",
       "2019-07-15 19:15:13  header up\n",
       "2019-07-15 19:15:14  header up"
      ]
     },
     "execution_count": 9,
     "metadata": {},
     "output_type": "execute_result"
    }
   ],
   "source": [
    "fol = [x[0] for x in os.walk(os.path.join(base_dir, cam_angle))]\n",
    "del fol[0]\n",
    "\n",
    "ts = []\n",
    "labels = []\n",
    "\n",
    "for f in fol:\n",
    "    base_ts_str = os.path.basename(f)\n",
    "    utc_ts = time.strptime(base_ts_str, \"%Y-%m-%d_%H-%M-%S\")\n",
    "    base_ts = timegm(utc_ts)\n",
    "    with open(os.path.join(f, f_prefix + os.path.basename(f) + f_suffix), 'r') as ff:\n",
    "        j = json.loads(ff.read())\n",
    "        for item in j:\n",
    "            clip_idx = int(os.path.basename(item['video']).split('_')[5].replace('.mp4', ''))\n",
    "            ts.append(base_ts + clip_idx)\n",
    "            labels.append(item['label'])\n",
    "            \n",
    "right_df = pd.DataFrame({'ts': ts, 'label': labels})\n",
    "right_df.index = pd.to_datetime(right_df['ts'], unit='s')\n",
    "right_df = right_df.sort_index().drop(columns=['ts'])\n",
    "right_df.head(10)"
   ]
  },
  {
   "cell_type": "code",
   "execution_count": 10,
   "metadata": {},
   "outputs": [],
   "source": [
    "cam_angle = 'op'"
   ]
  },
  {
   "cell_type": "code",
   "execution_count": 11,
   "metadata": {},
   "outputs": [
    {
     "data": {
      "text/html": [
       "<div>\n",
       "<style scoped>\n",
       "    .dataframe tbody tr th:only-of-type {\n",
       "        vertical-align: middle;\n",
       "    }\n",
       "\n",
       "    .dataframe tbody tr th {\n",
       "        vertical-align: top;\n",
       "    }\n",
       "\n",
       "    .dataframe thead th {\n",
       "        text-align: right;\n",
       "    }\n",
       "</style>\n",
       "<table border=\"1\" class=\"dataframe\">\n",
       "  <thead>\n",
       "    <tr style=\"text-align: right;\">\n",
       "      <th></th>\n",
       "      <th>label</th>\n",
       "    </tr>\n",
       "    <tr>\n",
       "      <th>ts</th>\n",
       "      <th></th>\n",
       "    </tr>\n",
       "  </thead>\n",
       "  <tbody>\n",
       "    <tr>\n",
       "      <th>2019-07-15 19:16:10</th>\n",
       "      <td>none</td>\n",
       "    </tr>\n",
       "    <tr>\n",
       "      <th>2019-07-15 19:16:11</th>\n",
       "      <td>none</td>\n",
       "    </tr>\n",
       "    <tr>\n",
       "      <th>2019-07-15 19:16:12</th>\n",
       "      <td>none</td>\n",
       "    </tr>\n",
       "    <tr>\n",
       "      <th>2019-07-15 19:16:13</th>\n",
       "      <td>none</td>\n",
       "    </tr>\n",
       "    <tr>\n",
       "      <th>2019-07-15 19:16:14</th>\n",
       "      <td>none</td>\n",
       "    </tr>\n",
       "    <tr>\n",
       "      <th>2019-07-15 19:16:15</th>\n",
       "      <td>none</td>\n",
       "    </tr>\n",
       "    <tr>\n",
       "      <th>2019-07-15 19:16:16</th>\n",
       "      <td>none</td>\n",
       "    </tr>\n",
       "    <tr>\n",
       "      <th>2019-07-15 19:16:17</th>\n",
       "      <td>none</td>\n",
       "    </tr>\n",
       "    <tr>\n",
       "      <th>2019-07-15 19:16:18</th>\n",
       "      <td>none</td>\n",
       "    </tr>\n",
       "    <tr>\n",
       "      <th>2019-07-15 19:16:19</th>\n",
       "      <td>none</td>\n",
       "    </tr>\n",
       "  </tbody>\n",
       "</table>\n",
       "</div>"
      ],
      "text/plain": [
       "                    label\n",
       "ts                       \n",
       "2019-07-15 19:16:10  none\n",
       "2019-07-15 19:16:11  none\n",
       "2019-07-15 19:16:12  none\n",
       "2019-07-15 19:16:13  none\n",
       "2019-07-15 19:16:14  none\n",
       "2019-07-15 19:16:15  none\n",
       "2019-07-15 19:16:16  none\n",
       "2019-07-15 19:16:17  none\n",
       "2019-07-15 19:16:18  none\n",
       "2019-07-15 19:16:19  none"
      ]
     },
     "execution_count": 11,
     "metadata": {},
     "output_type": "execute_result"
    }
   ],
   "source": [
    "fol = [x[0] for x in os.walk(os.path.join(base_dir, cam_angle))]\n",
    "del fol[0]\n",
    "\n",
    "ts = []\n",
    "labels = []\n",
    "\n",
    "for f in fol:\n",
    "    base_ts_str = os.path.basename(f)\n",
    "    utc_ts = time.strptime(base_ts_str, \"%Y-%m-%d_%H-%M-%S\")\n",
    "    base_ts = timegm(utc_ts)\n",
    "    with open(os.path.join(f, f_prefix + os.path.basename(f) + f_suffix), 'r') as ff:\n",
    "        j = json.loads(ff.read())\n",
    "        for item in j:\n",
    "            clip_idx = int(os.path.basename(item['video']).split('_')[5].replace('.mp4', ''))\n",
    "            ts.append(base_ts + clip_idx)\n",
    "            labels.append(item['label'])\n",
    "            \n",
    "op_df = pd.DataFrame({'ts': ts, 'label': labels})\n",
    "op_df.index = pd.to_datetime(op_df['ts'], unit='s')\n",
    "op_df = op_df.sort_index().drop(columns=['ts'])\n",
    "op_df.head(10)"
   ]
  },
  {
   "cell_type": "markdown",
   "metadata": {},
   "source": [
    "Merge `left`, `right`, `op` label dataframes into one."
   ]
  },
  {
   "cell_type": "code",
   "execution_count": 17,
   "metadata": {},
   "outputs": [
    {
     "data": {
      "text/html": [
       "<div>\n",
       "<style scoped>\n",
       "    .dataframe tbody tr th:only-of-type {\n",
       "        vertical-align: middle;\n",
       "    }\n",
       "\n",
       "    .dataframe tbody tr th {\n",
       "        vertical-align: top;\n",
       "    }\n",
       "\n",
       "    .dataframe thead th {\n",
       "        text-align: right;\n",
       "    }\n",
       "</style>\n",
       "<table border=\"1\" class=\"dataframe\">\n",
       "  <thead>\n",
       "    <tr style=\"text-align: right;\">\n",
       "      <th></th>\n",
       "      <th>left</th>\n",
       "      <th>right</th>\n",
       "      <th>op</th>\n",
       "    </tr>\n",
       "    <tr>\n",
       "      <th>ts</th>\n",
       "      <th></th>\n",
       "      <th></th>\n",
       "      <th></th>\n",
       "    </tr>\n",
       "  </thead>\n",
       "  <tbody>\n",
       "    <tr>\n",
       "      <th>2019-07-15 19:15:00</th>\n",
       "      <td>header up</td>\n",
       "      <td>NaN</td>\n",
       "      <td>NaN</td>\n",
       "    </tr>\n",
       "    <tr>\n",
       "      <th>2019-07-15 19:15:01</th>\n",
       "      <td>header up</td>\n",
       "      <td>NaN</td>\n",
       "      <td>NaN</td>\n",
       "    </tr>\n",
       "    <tr>\n",
       "      <th>2019-07-15 19:15:02</th>\n",
       "      <td>header up</td>\n",
       "      <td>NaN</td>\n",
       "      <td>NaN</td>\n",
       "    </tr>\n",
       "    <tr>\n",
       "      <th>2019-07-15 19:15:03</th>\n",
       "      <td>header up</td>\n",
       "      <td>NaN</td>\n",
       "      <td>NaN</td>\n",
       "    </tr>\n",
       "    <tr>\n",
       "      <th>2019-07-15 19:15:04</th>\n",
       "      <td>header up</td>\n",
       "      <td>NaN</td>\n",
       "      <td>NaN</td>\n",
       "    </tr>\n",
       "    <tr>\n",
       "      <th>2019-07-15 19:15:05</th>\n",
       "      <td>header up</td>\n",
       "      <td>header up</td>\n",
       "      <td>NaN</td>\n",
       "    </tr>\n",
       "    <tr>\n",
       "      <th>2019-07-15 19:15:06</th>\n",
       "      <td>header up</td>\n",
       "      <td>header up</td>\n",
       "      <td>NaN</td>\n",
       "    </tr>\n",
       "    <tr>\n",
       "      <th>2019-07-15 19:15:07</th>\n",
       "      <td>header up</td>\n",
       "      <td>header up</td>\n",
       "      <td>NaN</td>\n",
       "    </tr>\n",
       "    <tr>\n",
       "      <th>2019-07-15 19:15:08</th>\n",
       "      <td>header up</td>\n",
       "      <td>header up</td>\n",
       "      <td>NaN</td>\n",
       "    </tr>\n",
       "    <tr>\n",
       "      <th>2019-07-15 19:15:09</th>\n",
       "      <td>header up</td>\n",
       "      <td>header up</td>\n",
       "      <td>NaN</td>\n",
       "    </tr>\n",
       "  </tbody>\n",
       "</table>\n",
       "</div>"
      ],
      "text/plain": [
       "                          left      right   op\n",
       "ts                                            \n",
       "2019-07-15 19:15:00  header up        NaN  NaN\n",
       "2019-07-15 19:15:01  header up        NaN  NaN\n",
       "2019-07-15 19:15:02  header up        NaN  NaN\n",
       "2019-07-15 19:15:03  header up        NaN  NaN\n",
       "2019-07-15 19:15:04  header up        NaN  NaN\n",
       "2019-07-15 19:15:05  header up  header up  NaN\n",
       "2019-07-15 19:15:06  header up  header up  NaN\n",
       "2019-07-15 19:15:07  header up  header up  NaN\n",
       "2019-07-15 19:15:08  header up  header up  NaN\n",
       "2019-07-15 19:15:09  header up  header up  NaN"
      ]
     },
     "execution_count": 17,
     "metadata": {},
     "output_type": "execute_result"
    }
   ],
   "source": [
    "m = pd.merge(left_df, right_df, how='outer', left_index=True, right_index=True, suffixes=('_left', '_right'))\n",
    "labels_df = pd.merge(m, op_df, how='outer', left_index=True, right_index=True)\n",
    "labels_df.rename(columns={'label_left': 'left', 'label_right': 'right', 'label': 'op'}, inplace=True)\n",
    "labels_df.head(10)"
   ]
  },
  {
   "cell_type": "markdown",
   "metadata": {},
   "source": [
    "Save the final merged dataframe."
   ]
  },
  {
   "cell_type": "code",
   "execution_count": 16,
   "metadata": {},
   "outputs": [],
   "source": [
    "labels_df = labels_df.fillna('not available')\n",
    "labels_df.to_hdf('./labels.h5', key='labels')"
   ]
  }
 ],
 "metadata": {
  "kernelspec": {
   "display_name": "Python 3",
   "language": "python",
   "name": "python3"
  },
  "language_info": {
   "codemirror_mode": {
    "name": "ipython",
    "version": 3
   },
   "file_extension": ".py",
   "mimetype": "text/x-python",
   "name": "python",
   "nbconvert_exporter": "python",
   "pygments_lexer": "ipython3",
   "version": "3.7.7"
  }
 },
 "nbformat": 4,
 "nbformat_minor": 4
}
